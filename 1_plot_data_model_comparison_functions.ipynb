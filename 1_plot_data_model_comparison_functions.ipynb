{
  "cells": [
    {
      "cell_type": "markdown",
      "metadata": {},
      "source": [
        "\n",
        "# Data vs functional model\n",
        "\n",
        "Compare data and model with stacked and unstacked functional components.\n"
      ]
    },
    {
      "cell_type": "code",
      "execution_count": null,
      "metadata": {},
      "outputs": [],
      "source": [
        "from plothist import get_dummy_data\n",
        "from plothist import make_hist\n",
        "from plothist import plot_data_model_comparison\n",
        "from scipy.stats import norm"
      ]
    },
    {
      "cell_type": "code",
      "execution_count": null,
      "metadata": {},
      "outputs": [],
      "source": [
        "# Install Latin Modern fonts\n",
        "!install_latin_modern_fonts"
      ]
    },
    {
      "cell_type": "markdown",
      "metadata": {},
      "source": [
        "Load dummy data."
      ]
    },
    {
      "cell_type": "code",
      "execution_count": null,
      "metadata": {},
      "outputs": [],
      "source": [
        "df = get_dummy_data()\n",
        "\n",
        "df"
      ]
    },
    {
      "cell_type": "markdown",
      "metadata": {},
      "source": [
        "Define data histogram."
      ]
    },
    {
      "cell_type": "code",
      "execution_count": null,
      "metadata": {},
      "outputs": [],
      "source": [
        "key = \"variable_1\"\n",
        "range = [-9, 12]\n",
        "category = \"category\"\n",
        "\n",
        "# Define data mask\n",
        "data_mask = df[category] == 8\n",
        "\n",
        "# Make data histogram\n",
        "data_hist = make_hist(df[key][data_mask], bins=50, range=range, weights=1)"
      ]
    },
    {
      "cell_type": "markdown",
      "metadata": {},
      "source": [
        "Define functions that will be used as model components."
      ]
    },
    {
      "cell_type": "code",
      "execution_count": null,
      "metadata": {},
      "outputs": [],
      "source": [
        "def f_signal(x):\n",
        "    return 1000 * norm.pdf(x, loc=0.5, scale=3)\n",
        "\n",
        "\n",
        "def f_background1(x):\n",
        "    return 1000 * norm.pdf(x, loc=-1.5, scale=4)\n",
        "\n",
        "\n",
        "def f_background2(x):\n",
        "    return 3000 * norm.pdf(x, loc=-1.8, scale=1.8)"
      ]
    },
    {
      "cell_type": "markdown",
      "metadata": {},
      "source": [
        "Compare data and model"
      ]
    },
    {
      "cell_type": "code",
      "execution_count": null,
      "metadata": {
        "collapsed": false
      },
      "outputs": [],
      "source": [
        "fig, ax_main, ax_comparison = plot_data_model_comparison(\n",
        "    data_hist=data_hist,\n",
        "    stacked_components=[f_background1, f_background2],\n",
        "    stacked_labels=[\"c0\", \"c1\"],\n",
        "    unstacked_components=[f_signal],\n",
        "    unstacked_labels=[\"Signal\"],\n",
        "    unstacked_colors=[\"#8EBA42\"],\n",
        "    xlabel=key,\n",
        "    ylabel=\"Entries\",\n",
        "    model_sum_kwargs={\"show\": True, \"label\": \"Model\", \"color\": \"navy\"},\n",
        "    comparison=\"pull\",\n",
        ")"
      ]
    }
  ],
  "metadata": {
    "kernelspec": {
      "display_name": "Python 3",
      "language": "python",
      "name": "python3"
    },
    "language_info": {
      "codemirror_mode": {
        "name": "ipython",
        "version": 3
      },
      "file_extension": ".py",
      "mimetype": "text/x-python",
      "name": "python",
      "nbconvert_exporter": "python",
      "pygments_lexer": "ipython3",
      "version": "3.10.12"
    }
  },
  "nbformat": 4,
  "nbformat_minor": 0
}
