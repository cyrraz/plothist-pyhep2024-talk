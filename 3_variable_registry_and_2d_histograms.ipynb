{
  "cells": [
    {
      "cell_type": "markdown",
      "metadata": {},
      "source": [
        "\n",
        "# 2D histograms\n",
        "\n",
        "Plot multiple 2D histograms with the variable registry.\n"
      ]
    },
    {
      "cell_type": "code",
      "execution_count": null,
      "metadata": {},
      "outputs": [],
      "source": [
        "from plothist import get_dummy_data\n",
        "from plothist import make_2d_hist\n",
        "from plothist import plot_2d_hist\n",
        "from plothist import create_variable_registry\n",
        "from plothist import update_variable_registry_ranges\n",
        "from plothist import get_variable_from_registry\n",
        "from itertools import combinations"
      ]
    },
    {
      "cell_type": "code",
      "execution_count": null,
      "metadata": {},
      "outputs": [],
      "source": [
        "# Install Latin Modern fonts\n",
        "!install_latin_modern_fonts"
      ]
    },
    {
      "cell_type": "markdown",
      "metadata": {},
      "source": [
        "Load dummy data."
      ]
    },
    {
      "cell_type": "code",
      "execution_count": null,
      "metadata": {},
      "outputs": [],
      "source": [
        "df = get_dummy_data()\n",
        "\n",
        "df"
      ]
    },
    {
      "cell_type": "markdown",
      "metadata": {},
      "source": [
        "Create variable registry."
      ]
    },
    {
      "cell_type": "code",
      "execution_count": null,
      "metadata": {
        "collapsed": false
      },
      "outputs": [],
      "source": [
        "variable_keys = [\"variable_0\", \"variable_1\", \"variable_2\"]\n",
        "create_variable_registry(variable_keys)\n",
        "update_variable_registry_ranges(df, variable_keys)"
      ]
    },
    {
      "cell_type": "markdown",
      "metadata": {},
      "source": [
        "Get all the combinations of variable keys."
      ]
    },
    {
      "cell_type": "code",
      "execution_count": null,
      "metadata": {},
      "outputs": [],
      "source": [
        "variable_keys_combinations = list(combinations(variable_keys, 2))\n",
        "print(variable_keys_combinations)"
      ]
    },
    {
      "cell_type": "markdown",
      "metadata": {},
      "source": [
        "Make 2D histograms and plot them."
      ]
    },
    {
      "cell_type": "code",
      "execution_count": null,
      "metadata": {},
      "outputs": [],
      "source": [
        "for k_combination, variable_keys_combination in enumerate(variable_keys_combinations):\n",
        "    variable0 = get_variable_from_registry(variable_keys_combination[0])\n",
        "    variable1 = get_variable_from_registry(variable_keys_combination[1])\n",
        "\n",
        "    h = make_2d_hist(\n",
        "        [df[variable0[\"name\"]], df[variable1[\"name\"]]],\n",
        "        bins=(variable0[\"bins\"], variable1[\"bins\"]),\n",
        "        range=(variable0[\"range\"], variable1[\"range\"]),\n",
        "    )\n",
        "\n",
        "    fig, ax, ax_colorbar = plot_2d_hist(h, colorbar_kwargs={\"label\": \"Entries\"})\n",
        "\n",
        "    ax.set_xlabel(variable0[\"name\"])\n",
        "    ax.set_ylabel(variable1[\"name\"])\n",
        "\n",
        "    ax.set_xlim(variable0[\"range\"])\n",
        "    ax.set_ylim(variable1[\"range\"])"
      ]
    }
  ],
  "metadata": {
    "kernelspec": {
      "display_name": "Python 3",
      "language": "python",
      "name": "python3"
    },
    "language_info": {
      "codemirror_mode": {
        "name": "ipython",
        "version": 3
      },
      "file_extension": ".py",
      "mimetype": "text/x-python",
      "name": "python",
      "nbconvert_exporter": "python",
      "pygments_lexer": "ipython3",
      "version": "3.12.3"
    }
  },
  "nbformat": 4,
  "nbformat_minor": 0
}
