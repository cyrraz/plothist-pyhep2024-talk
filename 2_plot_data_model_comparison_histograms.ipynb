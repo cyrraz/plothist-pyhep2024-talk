{
  "cells": [
    {
      "cell_type": "markdown",
      "metadata": {},
      "source": [
        "\n",
        "# Data vs histogram model\n",
        "\n",
        "Plot data and a model with stacked histogram components.\n"
      ]
    },
    {
      "cell_type": "code",
      "execution_count": null,
      "metadata": {},
      "outputs": [],
      "source": [
        "from plothist import get_dummy_data\n",
        "from plothist import make_hist\n",
        "from plothist import get_color_palette\n",
        "from plothist import plot_data_model_comparison\n",
        "from plothist import add_luminosity"
      ]
    },
    {
      "cell_type": "markdown",
      "metadata": {},
      "source": [
        "Install Latin Modern fonts (please restart the kernel afterwards)"
      ]
    },
    {
      "cell_type": "code",
      "execution_count": null,
      "metadata": {},
      "outputs": [],
      "source": [
        "!install_latin_modern_fonts"
      ]
    },
    {
      "cell_type": "markdown",
      "metadata": {},
      "source": [
        "Load dummy data."
      ]
    },
    {
      "cell_type": "code",
      "execution_count": null,
      "metadata": {},
      "outputs": [],
      "source": [
        "df = get_dummy_data()\n",
        "\n",
        "df"
      ]
    },
    {
      "cell_type": "markdown",
      "metadata": {},
      "source": [
        "Define and fill data and background histograms."
      ]
    },
    {
      "cell_type": "code",
      "execution_count": null,
      "metadata": {
        "collapsed": false
      },
      "outputs": [],
      "source": [
        "key = \"variable_1\"\n",
        "range = [-9, 12]\n",
        "category = \"category\"\n",
        "\n",
        "# Define data mask (1 category)\n",
        "data_mask = df[category] == 8\n",
        "\n",
        "# Define background masks (3 categories)\n",
        "background_categories = [0, 1, 2]\n",
        "background_masks = [df[category] == p for p in background_categories]\n",
        "\n",
        "# Define background labels and colors\n",
        "background_categories_labels = [f\"c{i}\" for i in background_categories]\n",
        "background_categories_colors = get_color_palette(\"cubehelix\", len(background_categories))\n",
        "\n",
        "# Create the histograms using the masks defined above\n",
        "data_hist = make_hist(df[key][data_mask], bins=50, range=range, weights=1)\n",
        "background_hists = [make_hist(df[key][mask], bins=50, range=range, weights=1) for mask in background_masks]\n",
        "\n",
        "# Scale background to data\n",
        "# boost_histogram.Histogram objects are easy to manipulate and can be multiplied by a factor\n",
        "# The variance in each bin is correctly scaled as well\n",
        "background_scaling_factor = data_hist.sum().value / sum(background_hists).sum().value\n",
        "background_hists = [background_scaling_factor * h for h in background_hists]"
      ]
    },
    {
      "cell_type": "markdown",
      "metadata": {},
      "source": [
        "Plot data model comparison."
      ]
    },
    {
      "cell_type": "code",
      "execution_count": null,
      "metadata": {},
      "outputs": [],
      "source": [
        "fig, ax_main, ax_comparison = plot_data_model_comparison(\n",
        "    data_hist=data_hist,\n",
        "    stacked_components=background_hists,\n",
        "    stacked_labels=background_categories_labels,\n",
        "    stacked_colors=background_categories_colors,\n",
        "    xlabel=key,\n",
        "    ylabel=\"Entries\",\n",
        ")\n",
        "\n",
        "# Add integrated luminosity\n",
        "add_luminosity(collaboration=\"plothist\", ax=ax_main, lumi=3, lumi_unit=\"zb\", preliminary=True)"
      ]
    }
  ],
  "metadata": {
    "kernelspec": {
      "display_name": "Python 3",
      "language": "python",
      "name": "python3"
    },
    "language_info": {
      "codemirror_mode": {
        "name": "ipython",
        "version": 3
      },
      "file_extension": ".py",
      "mimetype": "text/x-python",
      "name": "python",
      "nbconvert_exporter": "python",
      "pygments_lexer": "ipython3",
      "version": "3.10.12"
    }
  },
  "nbformat": 4,
  "nbformat_minor": 0
}
