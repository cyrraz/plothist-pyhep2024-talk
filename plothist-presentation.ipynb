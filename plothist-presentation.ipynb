{
 "cells": [
  {
   "cell_type": "markdown",
   "metadata": {
    "slideshow": {
     "slide_type": "slide"
    }
   },
   "source": [
    "# plothist\n",
    "\n",
    "<p float=\"middle\">\n",
    "  <img src=\"https://raw.githubusercontent.com/cyrraz/plothist/main/docs/img/model_examples_stacked.svg\" width=\"33%\" />\n",
    "  <img src=\"https://raw.githubusercontent.com/cyrraz/plothist/main/docs/img/2d_hist_with_projections.svg\" width=\"25%\" />\n",
    "</p>\n",
    "\n",
    "### Plot and compare histograms in a scalable way and a beautiful style"
   ]
  },
  {
   "cell_type": "markdown",
   "metadata": {
    "slideshow": {
     "slide_type": "slide"
    }
   },
   "source": [
    "# plothist"
   ]
  },
  {
   "cell_type": "markdown",
   "metadata": {
    "slideshow": {
     "slide_type": "fragment"
    }
   },
   "source": [
    "## Goal of the package\n",
    "\n",
    "Provide tools to make standard HEP plots in a scalable way and a publication-ready style, allowing analysts to focus on Physics rather than spending time on making and tuning plots."
   ]
  },
  {
   "cell_type": "markdown",
   "metadata": {
    "slideshow": {
     "slide_type": "fragment"
    }
   },
   "source": [
    "### Style\n",
    "- Default style is publication-ready (with little to no effort)"
   ]
  },
  {
   "cell_type": "markdown",
   "metadata": {
    "slideshow": {
     "slide_type": "fragment"
    }
   },
   "source": [
    "### Scalability\n",
    "- Scalable wrt data size by separating histogram creation from plotting, allowing batching/parallelism\n",
    "- Scalable wrt number of variables by storing plotting parameters in a variable registry"
   ]
  },
  {
   "cell_type": "markdown",
   "metadata": {
    "slideshow": {
     "slide_type": "fragment"
    }
   },
   "source": [
    "### User-friendly documentation and accessibility\n",
    "- A gallery of examples with complete codes\n",
    "- Comprehensive and easy-to-navigate documentation\n",
    "- Installable in one command line via pip"
   ]
  },
  {
   "cell_type": "markdown",
   "metadata": {
    "slideshow": {
     "slide_type": "slide"
    }
   },
   "source": [
    "# Simple histogram example"
   ]
  },
  {
   "cell_type": "code",
   "execution_count": null,
   "metadata": {
    "slideshow": {
     "slide_type": "subslide"
    }
   },
   "outputs": [],
   "source": [
    "# Create some dummy data\n",
    "from plothist import get_dummy_data\n",
    "df = get_dummy_data()"
   ]
  },
  {
   "cell_type": "code",
   "execution_count": null,
   "metadata": {
    "slideshow": {
     "slide_type": "subslide"
    }
   },
   "outputs": [],
   "source": [
    "from plothist import make_hist, plot_hist\n",
    "import matplotlib.pyplot as plt\n",
    "\n",
    "name = \"variable_0\"\n",
    "\n",
    "fig, ax = plt.subplots()\n",
    "\n",
    "h = make_hist(df[name])\n",
    "\n",
    "plot_hist(h, ax=ax)\n",
    "\n",
    "ax.set_xlabel(name)\n",
    "ax.set_ylabel(\"Entries\")"
   ]
  }
 ],
 "metadata": {
  "kernelspec": {
   "display_name": "Python 3",
   "language": "python",
   "name": "python3"
  },
  "language_info": {
   "codemirror_mode": {
    "name": "ipython",
    "version": 3
   },
   "file_extension": ".py",
   "mimetype": "text/x-python",
   "name": "python",
   "nbconvert_exporter": "python",
   "pygments_lexer": "ipython3",
   "version": "3.10.12"
  }
 },
 "nbformat": 4,
 "nbformat_minor": 2
}
