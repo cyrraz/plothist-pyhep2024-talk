{
 "cells": [
  {
   "cell_type": "markdown",
   "metadata": {
    "slideshow": {
     "slide_type": "slide"
    }
   },
   "source": [
    "# plothist\n",
    "\n",
    "<p float=\"middle\">\n",
    "  <img src=\"https://raw.githubusercontent.com/cyrraz/plothist/main/docs/img/model_examples_stacked.svg\" width=\"33%\" />\n",
    "  <img src=\"https://raw.githubusercontent.com/cyrraz/plothist/main/docs/img/2d_hist_with_projections.svg\" width=\"25%\" />\n",
    "</p>\n",
    "\n",
    "### Plot and compare histograms in a scalable way and a beautiful style"
   ]
  },
  {
   "cell_type": "markdown",
   "metadata": {
    "slideshow": {
     "slide_type": "slide"
    }
   },
   "source": [
    "# plothist"
   ]
  },
  {
   "cell_type": "markdown",
   "metadata": {
    "slideshow": {
     "slide_type": "fragment"
    }
   },
   "source": [
    "## Goal of the package\n",
    "\n",
    "Provide tools to make standard HEP plots in a scalable way and a publication-ready style, allowing analysts to focus on Physics rather than spending time on making and tuning plots."
   ]
  },
  {
   "cell_type": "markdown",
   "metadata": {
    "slideshow": {
     "slide_type": "fragment"
    }
   },
   "source": [
    "### Style\n",
    "- Default style is publication-ready (with little to no effort)"
   ]
  },
  {
   "cell_type": "markdown",
   "metadata": {
    "slideshow": {
     "slide_type": "fragment"
    }
   },
   "source": [
    "### Scalability\n",
    "- Scalable wrt data size by separating histogram creation from plotting, allowing batching/parallelism\n",
    "- Scalable wrt number of variables by storing plotting parameters in a variable registry"
   ]
  },
  {
   "cell_type": "markdown",
   "metadata": {
    "slideshow": {
     "slide_type": "fragment"
    }
   },
   "source": [
    "### User-friendly documentation and accessibility\n",
    "- A gallery of examples with complete codes\n",
    "- Comprehensive and easy-to-navigate documentation\n",
    "- Installable in one command line via pip"
   ]
  },
  {
   "cell_type": "markdown",
   "metadata": {
    "slideshow": {
     "slide_type": "slide"
    }
   },
   "source": [
    "# Simple histogram example"
   ]
  },
  {
   "cell_type": "code",
   "execution_count": null,
   "metadata": {
    "slideshow": {
     "slide_type": "subslide"
    }
   },
   "outputs": [],
   "source": [
    "# Create some dummy data\n",
    "from plothist import get_dummy_data\n",
    "df = get_dummy_data()"
   ]
  },
  {
   "cell_type": "code",
   "execution_count": null,
   "metadata": {
    "slideshow": {
     "slide_type": "subslide"
    }
   },
   "outputs": [],
   "source": [
    "from plothist import make_hist, plot_hist\n",
    "import matplotlib.pyplot as plt\n",
    "\n",
    "name = \"variable_0\"\n",
    "\n",
    "fig, ax = plt.subplots()\n",
    "\n",
    "h = make_hist(df[name])\n",
    "\n",
    "plot_hist(h, ax=ax)\n",
    "\n",
    "ax.set_xlabel(name)\n",
    "ax.set_ylabel(\"Entries\")"
   ]
  },
  {
   "cell_type": "markdown",
   "metadata": {
    "slideshow": {
     "slide_type": "slide"
    }
   },
   "source": [
    "# Add Model examples in this slide..."
   ]
  },
  {
   "cell_type": "markdown",
   "metadata": {
    "slideshow": {
     "slide_type": "slide"
    }
   },
   "source": [
    "# Variable registry\n",
    "\n",
    "### Functionalities\n",
    "\n",
    "- Manage any number of variable using unique identifiers (keys)\n",
    "\n",
    "- Store any information in a database (YAML file)\n",
    "\n",
    "- Retrieve information with only the keys\n",
    "\n",
    "- Update or add automatically information (like the range)\n"
   ]
  },
  {
   "cell_type": "markdown",
   "metadata": {},
   "source": [
    "\n",
    "# Variable registry in action: multiple 2D histograms"
   ]
  },
  {
   "cell_type": "code",
   "execution_count": null,
   "metadata": {
    "slideshow": {
     "slide_type": "subslide"
    }
   },
   "outputs": [],
   "source": [
    "# For the 2D histogram\n",
    "from plothist import make_2d_hist\n",
    "from plothist import plot_2d_hist\n",
    "\n",
    "# For the registry\n",
    "from plothist import create_variable_registry\n",
    "from plothist import update_variable_registry_ranges\n",
    "from plothist import get_variable_from_registry\n",
    "from itertools import combinations"
   ]
  },
  {
   "cell_type": "markdown",
   "metadata": {
    "slideshow": {
     "slide_type": "subslide"
    }
   },
   "source": [
    "Create the registry in a `yaml` file automatically"
   ]
  },
  {
   "cell_type": "code",
   "execution_count": null,
   "metadata": {
    "slideshow": {
     "slide_type": "fragment"
    }
   },
   "outputs": [],
   "source": [
    "variable_keys = [\"variable_0\", \"variable_1\", \"variable_2\"]\n",
    "create_variable_registry(variable_keys)"
   ]
  },
  {
   "cell_type": "raw",
   "metadata": {
    "slideshow": {
     "slide_type": "fragment"
    }
   },
   "source": [
    "# In the YAML file:\n",
    "variable_0:\n",
    "  name: variable_0\n",
    "  bins: 50\n",
    "  range:\n",
    "  - min\n",
    "  - max\n",
    "  label: variable_0\n",
    "  log: false\n",
    "  legend_location: best\n",
    "  legend_ncols: 1\n",
    "  docstring: ''\n",
    "\n",
    "  ...\n",
    "\n",
    "variable_1:\n",
    "    ...\n"
   ]
  },
  {
   "cell_type": "markdown",
   "metadata": {
    "slideshow": {
     "slide_type": "subslide"
    }
   },
   "source": [
    "Update the ranges"
   ]
  },
  {
   "cell_type": "code",
   "execution_count": null,
   "metadata": {
    "slideshow": {
     "slide_type": "fragment"
    }
   },
   "outputs": [],
   "source": [
    "update_variable_registry_ranges(df, variable_keys)"
   ]
  },
  {
   "cell_type": "raw",
   "metadata": {
    "slideshow": {
     "slide_type": "fragment"
    }
   },
   "source": [
    "variable_0:\n",
    "  name: variable_0\n",
    "  bins: 50\n",
    "  range:\n",
    "   - -10.55227774892869 # min(df[\"variable_0\"])\n",
    "   - 10.04658448558009  # max(df[\"variable_0\"])\n",
    "  label: variable_0\n",
    "  log: false\n",
    "  legend_location: best\n",
    "  legend_ncols: 1\n",
    "  docstring: ''\n",
    "\n",
    "  ...\n",
    "\n",
    "variable_1:\n",
    "    ...\n"
   ]
  },
  {
   "cell_type": "markdown",
   "metadata": {
    "slideshow": {
     "slide_type": "subslide"
    }
   },
   "source": [
    "Plot the combinations between the variables"
   ]
  },
  {
   "cell_type": "code",
   "execution_count": null,
   "metadata": {
    "slideshow": {
     "slide_type": "subslide"
    }
   },
   "outputs": [],
   "source": [
    "variable_keys_combinations = list(combinations(variable_keys, 2))\n",
    "\n",
    "for k_combination, variable_keys_combination in enumerate(variable_keys_combinations):\n",
    "    variable0 = get_variable_from_registry(variable_keys_combination[0])\n",
    "    variable1 = get_variable_from_registry(variable_keys_combination[1])\n",
    "\n",
    "    h = make_2d_hist(\n",
    "        [df[variable0[\"name\"]], df[variable1[\"name\"]]],\n",
    "        bins=(variable0[\"bins\"], variable1[\"bins\"]),\n",
    "        range=(variable0[\"range\"], variable1[\"range\"]),\n",
    "    )\n",
    "\n",
    "    fig, ax, ax_colorbar = plot_2d_hist(h, colorbar_kwargs={\"label\": \"Entries\"})\n",
    "\n",
    "    ax.set_xlabel(variable0[\"name\"])\n",
    "    ax.set_ylabel(variable1[\"name\"])\n",
    "\n",
    "    ax.set_xlim(variable0[\"range\"])\n",
    "    ax.set_ylim(variable1[\"range\"])"
   ]
  }
 ],
 "metadata": {
  "kernelspec": {
   "display_name": "Python 3",
   "language": "python",
   "name": "python3"
  },
  "language_info": {
   "codemirror_mode": {
    "name": "ipython",
    "version": 3
   },
   "file_extension": ".py",
   "mimetype": "text/x-python",
   "name": "python",
   "nbconvert_exporter": "python",
   "pygments_lexer": "ipython3",
   "version": "3.10.12"
  }
 },
 "nbformat": 4,
 "nbformat_minor": 2
}
