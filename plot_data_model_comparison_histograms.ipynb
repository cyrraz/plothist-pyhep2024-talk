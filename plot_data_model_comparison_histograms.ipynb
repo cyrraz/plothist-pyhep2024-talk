{
  "cells": [
    {
      "cell_type": "markdown",
      "metadata": {},
      "source": [
        "\n",
        "# Data vs model with stacked components\n",
        "\n",
        "Plot data and a model with stacked components.\n"
      ]
    },
    {
      "cell_type": "code",
      "execution_count": null,
      "metadata": {},
      "outputs": [],
      "source": [
        "from plothist import get_dummy_data\n",
        "from plothist import make_hist\n",
        "from plothist import get_color_palette\n",
        "from plothist import plot_data_model_comparison\n",
        "from plothist import plot_hist\n",
        "from plothist import add_luminosity"
      ]
    },
    {
      "cell_type": "markdown",
      "metadata": {},
      "source": [
        "Load dummy data."
      ]
    },
    {
      "cell_type": "code",
      "execution_count": null,
      "metadata": {},
      "outputs": [],
      "source": [
        "df = get_dummy_data()\n",
        "\n",
        "df"
      ]
    },
    {
      "cell_type": "markdown",
      "metadata": {},
      "source": [
        "Define and fill signal, data, and background histograms."
      ]
    },
    {
      "cell_type": "code",
      "execution_count": null,
      "metadata": {
        "collapsed": false
      },
      "outputs": [],
      "source": [
        "key = \"variable_1\"\n",
        "range = [-9, 12]\n",
        "category = \"category\"\n",
        "\n",
        "# Define some masks to separate the dataset in signal (1 category), background (3 categories) and data (1 category)\n",
        "signal_mask = df[category] == 7\n",
        "data_mask = df[category] == 8\n",
        "\n",
        "background_categories = [0, 1, 2]\n",
        "background_categories_labels = [f\"c{i}\" for i in background_categories]\n",
        "background_categories_colors = get_color_palette(\"cubehelix\", len(background_categories))\n",
        "\n",
        "background_masks = [df[category] == p for p in background_categories]\n",
        "\n",
        "# Create the histograms using the masks defined above\n",
        "data_hist = make_hist(df[key][data_mask], bins=50, range=range, weights=1)\n",
        "background_hists = [make_hist(df[key][mask], bins=50, range=range, weights=1) for mask in background_masks]\n",
        "signal_hist = make_hist(df[key][signal_mask], bins=50, range=range, weights=1)\n",
        "\n",
        "# Optional: scale to data\n",
        "# boost_histogram.Histogram objects are easy to manipulate.\n",
        "# Here, we multiply them by a scalar to scale them, and their variance is correctly scaled as well.\n",
        "background_scaling_factor = data_hist.sum().value / sum(background_hists).sum().value\n",
        "background_hists = [background_scaling_factor * h for h in background_hists]\n",
        "\n",
        "signal_scaling_factor = data_hist.sum().value / signal_hist.sum().value\n",
        "signal_hist *= signal_scaling_factor"
      ]
    },
    {
      "cell_type": "markdown",
      "metadata": {},
      "source": [
        "Plot data model comparison."
      ]
    },
    {
      "cell_type": "code",
      "execution_count": null,
      "metadata": {},
      "outputs": [],
      "source": [
        "# Compare data and model\n",
        "fig, ax_main, ax_comparison = plot_data_model_comparison(\n",
        "    data_hist=data_hist,\n",
        "    stacked_components=background_hists,\n",
        "    stacked_labels=background_categories_labels,\n",
        "    stacked_colors=background_categories_colors,\n",
        "    xlabel=key,\n",
        "    ylabel=\"Entries\",\n",
        ")\n",
        "\n",
        "# Signal histogram not part of the model and therefore not included in the comparison\n",
        "plot_hist(\n",
        "    signal_hist,\n",
        "    ax=ax_main,\n",
        "    color=\"red\",\n",
        "    label=\"Signal\",\n",
        "    histtype=\"step\",\n",
        ")\n",
        "\n",
        "# Update legend\n",
        "ax_main.legend()\n",
        "\n",
        "# Add integrated luminosity\n",
        "add_luminosity(\n",
        "    collaboration=\"plothist\", ax=ax_main, lumi=3, lumi_unit=\"zb\", preliminary=True\n",
        ")"
      ]
    }
  ],
  "metadata": {
    "kernelspec": {
      "display_name": "Python 3",
      "language": "python",
      "name": "python3"
    },
    "language_info": {
      "codemirror_mode": {
        "name": "ipython",
        "version": 3
      },
      "file_extension": ".py",
      "mimetype": "text/x-python",
      "name": "python",
      "nbconvert_exporter": "python",
      "pygments_lexer": "ipython3",
      "version": "3.10.12"
    }
  },
  "nbformat": 4,
  "nbformat_minor": 0
}
